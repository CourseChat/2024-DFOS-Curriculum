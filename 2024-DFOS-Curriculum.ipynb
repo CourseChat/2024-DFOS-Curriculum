{
 "cells": [
  {
   "cell_type": "markdown",
   "metadata": {},
   "source": [
    "# 2024 DFOS Curriculum"
   ]
  },
  {
   "cell_type": "markdown",
   "metadata": {},
   "source": [
    "### Outline \n",
    " Based on discussions by the 2023-2024 DFOS Alicia Working Group and by the projects of the SRG 2023 Summer Intern program, this is a sketch of a possible short course: **Building Infrastructure Health Monitoring Systems**. \n",
    " \n",
    " **Approach**: Start with one of the seven SRG published papers listed below. Examine the technical components it uses: the physical infrastructure monitored; the desired monitoring values; the DFOS FUT physical structure; the interrogater component structure; the past and present vendors of optical, RF, power and computing components; potential optical, RF, power components;desired interrogator parameters;  computing and data storage elements; appropriate use of Brillouin, Raman, Rayleigh, or other data sources; updated software stack; the data acquisition and analysis logic.  \n",
    " \n",
    " Using the existing sensor structure from each paper or ongoing project, **build or re-engineer** the interrogator technology using new **RFSoC** hardware and software. This will entail moving existing code from MATLAB to Python, deciding on the appropriate Python libraries, building an sequence of Jupyter Notebooks to implement the new functionality, and designing the appropriate fabric of optical, RF, and computational components given tne new capabilities of the **RFSoC** system.\n",
    "\n",
    " Spurred by the sudden availability of an [**unexpectedly powerful computational environment from the University of Strathclyde**](https://www.rfsocbook.com/), we suggest **reimplementing seven existing SRG research projects**  using the new, integrated, shared hardware and software environment provided by the RFSoC system: integrated parallel computation, FPGA, FFT, GPU, RF, photonics, and a software environment built on Jupyter Notebooks, Python, and hard-coded FPGA hardware support. \n",
    "\n",
    " **Immediate goal: explore pathways for 100X interrogator cost reduction** ; explore Brillouin, Raleigh, Raman multi-mode operation with a variety of phase,polarity or frequency-scanning options. Characterize expansion of today's sensing and monitoring market--from oil/gas to all infrastructure--based on 100X cost reduction.\n",
    "\n",
    " In exploring each integration, use the existing project sensor infrastructure. Extend it, using new RFSoC communications capabilities, new data analysis environments, and new computational extensions. Substitute new hardware capabilities for prior computational workflows in sampling, spectrum analysis, and filtering.\n",
    "\n",
    " Accompany each reimplementation with an accompanying expanded curriculum: applied mathematics (linear algebra), signal processing, programming languages, photonics, spectrum  analysis, computational architecture, metamaterials, machine learning, testing and validation, and design.\n",
    "\n",
    " In each project, expand interrogator capabilities; explore Brillouin, Raleigh, Raman modes; expand temperature and strain measurements; integrate with digital twin environments; expand 3D visualization; explore ground-penetrating radar; "
   ]
  },
  {
   "cell_type": "markdown",
   "metadata": {},
   "source": [
    "---\n",
    "### EBMUD Claremont Interrogator: Hayward Fault\n",
    "\n",
    "2024-January: **EBMUD Alicia: Phase 0; Retool interrogator: additional parameters**\n",
    "\n",
    "Insert current system diagram; Phase One rebuild of existing Picoscope; laser; photodiode; splitters; circulator; show system simplification; sketch photonics integration pathway to extreme cost reduction; estimate market distribution, potential new sectors;\n",
    "\n",
    "Insert rewritten and commented MATLAB code, with extended comments on FFT implementation; Brillouin Peaks found by frequency sweeps; details of centimeter resolution for temperature and microstrain\n",
    "\n",
    "Explain spectrum and parameter settings: Signal to Noise Ratio; speed of light; strain; frequency scanning step;optical path length change;sampling rate; Nyquist zone; microstrain resolution; temperature resolution;"
   ]
  },
  {
   "cell_type": "markdown",
   "metadata": {},
   "source": [
    "---\n",
    "### Road surface (extend to permeable installations)\n",
    "##### Create extension of proven fiber-melt-in-street to every ongoing asphalt resurfacing project in EBMUD service territory. Estimated 5-20 city blocks/week;\n",
    "\n",
    "[2022-August: **Richmond Field Station: Road monitoring using asphalt-embedded distributed acoustic sensing (DAS): Real-time movement detection**](https://onlinelibrary-wiley-com.libproxy.berkeley.edu/doi/10.1002/stc.3067)\n",
    "\n",
    "Explore overlapping video monitoring, water flow detection, lidar surface condition;"
   ]
  },
  {
   "cell_type": "markdown",
   "metadata": {},
   "source": [
    "---\n",
    "### Berkeley Geothermal Heating\n",
    "[**Berkeley Geothermal Heating**](https://ce.berkeley.edu/news/2699)\n",
    "\n",
    "[**Borehole Sensing**](https://news.berkeley.edu/2022/03/30/uc-berkeley-drills-400-foot-borehole-to-explore-geothermal-heating-on-campus/?utm_source=Berkeleyan&utm_campaign=5b467fe571-berkeleyan&utm_medium=email&utm_term=0_99ee3800d7-5b467fe571-389205568)\n",
    "\n",
    "[**Seismic Sensor Network**](https://seismo.berkeley.edu/networks/index.html)\n",
    "\n",
    "[**LBL FEM Geothermal Model**](https://catalog.data.gov/dataset/an-hpc-based-hydrothermal-finite-element-simulator-for-modeling-underground-geothermal-beh)\n",
    "\n",
    "[**2021-Feb: Hydrothermal FEM; Treasure Island**](https://pangea.stanford.edu/ERE/pdf/IGAstandard/SGW/2021/Sun.pdf)\n",
    "\n",
    "\n",
    "\n",
    "\n",
    "UC Berkeley Energy Sustainability: Boreholes and Heat Pumps"
   ]
  },
  {
   "cell_type": "markdown",
   "metadata": {},
   "source": [
    "---\n",
    "### Levees\n",
    "[2023-March: **Application of Distributed Fiber Optic Sensing for Subsurface Levee Monitoring**](https://www.researchgate.net/publication/369497936_Application_of_Distributed_Fiber_Optic_Sensing_for_Subsurface_Levee_Monitoring)\n",
    "\n",
    "Vertical monitoring of water levels; direct embedding in soil. Provide  readings  of  the  long-term  subsurface  strain  and temperature  fluctuations  along  the  landside  of  the  levee.\n",
    "\n",
    "Extend to UC Davis Sacramento Levee measurement: "
   ]
  },
  {
   "cell_type": "markdown",
   "metadata": {},
   "source": [
    "---\n",
    "\n",
    "### Sea Level Rise Monitoring\n",
    "### Groundwater Monitoring\n",
    "\n",
    "Design new monitoring of all California wells. Note large discrepency in groundwater extraction reports.\n",
    "\n",
    "Couple with strong enforcement of [CA Sustainable Groundwater Management Act](https://water.ca.gov/Programs/Groundwater-Management/SGMA-Groundwater-Management/Groundwater-Sustainability-Plans) requirements for borehole monitoring.\n",
    "\n",
    "[USGS View](https://ca.water.usgs.gov/sustainable-groundwater-management/groundwater-levels-california.html)\n",
    "\n",
    "[CA Department of Water Resources: Live Groundwater and Wells](https://sgma.water.ca.gov/CalGWLive/#wells)"
   ]
  },
  {
   "cell_type": "markdown",
   "metadata": {},
   "source": [
    "---\n",
    "### Wind Turbines\n",
    "[2023-August **Fiber Optic Vibration Monitoring of Offshore Wind Turbines**](https://www.researchgate.net/publication/372843188_A_Shake-Table_Test_to_Evaluate_Fiber_Optic_Vibration_Monitoring_of_Offshore_Wind_Turbines)\n",
    "\n",
    "Optical Frequency Domain Reflectometry (OFDR) and Phase-based Time Domain Reflectometry\n",
    "\n",
    "[2021-May: Dynamic structural health monitoring of a model wind turbine tower using distributed acoustic sensing (DAS)](https://www.researchgate.net/publication/351356524_Dynamic_structural_health_monitoring_of_a_model_wind_turbine_tower_using_distributed_acoustic_sensing_DAS)"
   ]
  },
  {
   "cell_type": "markdown",
   "metadata": {},
   "source": [
    "---\n",
    "### Seabed and Oceans\n",
    "[**Distributed Acoustic Sensing on Oceans Observatories Initiative Regional Network**](https://oceanobservatories.org/pi-instrument/rapid-a-community-test-of-distributed-acoustic-sensing-on-the-ocean-observatories-initiative-regional-cabled-array/)\n",
    "\n",
    "[**2023-February: Distributed acoustic sensing recordings of low-frequency whale calls**](https://pubs.aip.org/asa/jel/article/3/2/026002/2874322/Distributed-acoustic-sensing-recordings-of-low)"
   ]
  },
  {
   "cell_type": "markdown",
   "metadata": {},
   "source": [
    "---\n",
    "### Tunnels\n",
    "[**Improve Tunnel Segmental Joint Crack Monitoring**](https://www.researchgate.net/profile/Chenjie-Gong/publication/317157076_Comparison_of_the_structural_behavior_of_reinforced_concrete_and_steel_fiber_reinforced_concrete_tunnel_segmental_joints/links/5bcd513f458515f7d9d0260b/Comparison-of-the-structural-behavior-of-reinforced-concrete-and-steel-fiber-reinforced-concrete-tunnel-segmental-joints.pdf)\n",
    "\n",
    "---"
   ]
  },
  {
   "cell_type": "markdown",
   "metadata": {},
   "source": [
    "# Building a curriculum based on implementing DFOS"
   ]
  },
  {
   "cell_type": "markdown",
   "metadata": {},
   "source": [
    "---\n",
    "## Adapting the RFSoC Textbook and Jupyter Notebooks for DFOS\n",
    "**Chapter 4: DSP Fundamentals** : use existing project data acquisition to illustrate sampling rates, quantization, and aliasing problems. Explain the impact on spatial resolution of choice of sampling rates, quantization, and the interrelationship of strain and temperature.\n",
    "\n",
    "Modify **Notebook Set B: DSP Fundamentals**, to explore ADC and DAC implementation; show filter impact on harmonics; explore sampling rates.\n",
    "\n",
    "**Chapter 5: Spectral Analysis**: extend the discussion of FFT with examples of Brillouin and Rayleigh OTDR,  φ-OTDR, OFDR, and DAS\n",
    "\n",
    "Modify **Notebook Set C** to explore time domain and frequency domain representatons of frames of data; use existing sets of field data from each published project as examples.  Explore DAC, ADC.  Explore FPGA implementations.\n",
    "\n",
    "---\n"
   ]
  },
  {
   "cell_type": "markdown",
   "metadata": {},
   "source": [
    "## "
   ]
  },
  {
   "cell_type": "markdown",
   "metadata": {},
   "source": [
    "First draft attempt: rewrite and annotate StrathClyde text with accompanying JN.\n",
    "Retain links to original texts; \n",
    "Build doc for Github repository that links text to JN; expand areas that reference FFT sequence.  Establish unique DFOS parameters, derived from "
   ]
  },
  {
   "cell_type": "markdown",
   "metadata": {},
   "source": [
    "Side Note to be ignored:  Obsidan URL for the descriptive text from Soga, Liu, Chien et al: obsidian://open?vault=MainAction&file=Action%2FApplication%20of%20Distributed%20Fiber%20Optic%20Sensing%20for%20Subsurface%20Levee%20Monitoring"
   ]
  },
  {
   "cell_type": "markdown",
   "metadata": {},
   "source": [
    "#### Exploring DFOS implementations using StrathClyde RFSoC hardware support\n",
    "Picoscope replacement\n"
   ]
  },
  {
   "cell_type": "markdown",
   "metadata": {},
   "source": [
    "---\n",
    "**Software Defined Radio with Zynq UltraScale + RFSoC**\n",
    "AMD; University of Strathclyde, Glasgow\n",
    "\n",
    "www.RFSoCbook.com\n",
    "\n",
    "ISBN 978-1-7395886-0-1\n",
    "\n",
    "2023; 717 pages; \n",
    "\n",
    "https://www.RFSoCbook.com; 19 chapters; 9 Jupyter Notebooks\n",
    "\n",
    "---"
   ]
  },
  {
   "cell_type": "code",
   "execution_count": null,
   "metadata": {},
   "outputs": [],
   "source": [
    "### Quick how-to:  Retrieve book; JN"
   ]
  },
  {
   "cell_type": "markdown",
   "metadata": {},
   "source": [
    "---\n",
    "### Specific course topics\n",
    "Signal processing fundamentals: sampling rate, quantizing, Nyquist 1; filters:low-pass;\n",
    "\n",
    "Establishing characteristics of a specific fiber-optic cable: optical density: M, N\n",
    "\n",
    "Testing and calibrating each cable: speed of light; \n",
    "\n",
    "Measurement of the Brillouin frequency of the backscattered light\n",
    "\n",
    "Calculating the location of each measurement point for the backscattered signal using a time-of-flight calculation based on the speed of light in the fiber core. How to measure that speed.\n",
    "\n",
    "Calculating **changes in the value of the Brillouin frequency peak** at each measurement point.\n",
    "\n",
    " ∆𝜈 = 𝑀∆𝜀 + 𝑁∆𝑇\n",
    "\n",
    " US Patent US20190195665A1; Use description to establish necessary interrogator parameters.\n",
    "\n",
    " *The system provides strain data every 4 inches (10 centimeters) with a spatial resolution of 3.3 feet (1 meter) and a strain precision of +20 µε and a temperature precision of +1.8° Fahrenheit (1°C).*\n",
    " ---"
   ]
  },
  {
   "cell_type": "markdown",
   "metadata": {},
   "source": [
    "---\n",
    "Relevant texts:\n",
    "**Optical Fibre Sensors-Fundamentals for Development of Optimized Devices**\n",
    "\n",
    "Edited by Ignacio Del Villar,Ignacio R. Matiasz, \n",
    "\n",
    "**IEEE Press, John Wiley**\n",
    "\n",
    "Identifiers: LCCN 2020020787 (print) | LCCN 2020020788 (ebook) | ISBN 9781119534761 (cloth) | ISBN 9781119534778 (adobe pdf) | ISBN 9781119534792 (epub)\n",
    "\n",
    "https://onlinelibrary-wiley-com.libproxy.berkeley.edu/doi/epub/10.1002/9781119534730\n",
    "\n",
    "**Chapter 4: Basic Detection Techniques**\n",
    "\n",
    "Daniele Tosi1,2 and Carlo Molardi 1\n",
    "\n",
    "1 School of Engineering, Nazarbayev University, Astana, Kazakhstan\n",
    "\n",
    "2 Laboratory of Biosensors and Bioinstruments, National Laboratory Astana Astana, Kazakhstan\n",
    "\n",
    "**Chapter 5: Structural Health Monitoring Using Distributed Fibre‐Optic Sensors**\n",
    "\n",
    "Alayn Loayssa\n",
    "\n",
    "Department of Electrical, Electronic and Communications Engineering, Public University of Navarre, Pamplona, Spain\n",
    "\n",
    "**Chapter 6: Distributed Sensors in the Oil and Gas Industry**\n",
    "\n",
    "Arthur H. Hartog\n",
    "\n",
    "Worthy Photonics Ltd, Winchester, UK\n",
    "\n",
    "Overview\n",
    "\n",
    "**Chapter 14: Fibre‐Optic Sensing: Past Reflections and Future Prospects**\n",
    "\n",
    "Brian Culshaw 1 and Marco N. Petrovich 2\n",
    "\n",
    "1 Department of Electronic and Electrical Engineering, University of Strathclyd, Glasgow, Scotland, UK\n",
    "\n",
    "2 Optoelectronics Research Centre, University of Southampton, Southampton, UK\n"
   ]
  },
  {
   "cell_type": "markdown",
   "metadata": {},
   "source": [
    "---\n",
    "## Suggested timeline\n",
    "\n",
    "**2024-January**\n",
    "\n",
    "### Purchase several RFSoC systems, for use in reimplementing Alicia, in exploring new Alicia architectures, and in supporting a seminar or workshop or short-course for DFOS\n",
    "\n",
    "1. Develop several pathways exploring techniques to move existing MATLAB code to the Jupyter and Python environment.\n",
    "    - Use OpenAI, Microsoft, Github, Code Explorer to rewrite MATLAB in Python, Julia\n",
    "    - Use interns, lower division, upper division, grads, PhD, Post-Doc, at different levels of computer sophistication, to rewrite code with aid of LLM, Anthropic, OpenAI, NVIDIA, Microsoft, Github tools\n",
    "\n",
    "    \n",
    "2. Elucidate the parameter-setting, testing and evaluation framework for specific implementations, eg, EBMUD Claremont, US Army Corp of Engineers, Schlumberger, UC Berkeley borehole heat pump installations\n",
    "\n",
    "**2024-February-May**\n",
    "Trials\n",
    "---\n"
   ]
  },
  {
   "cell_type": "markdown",
   "metadata": {},
   "source": [
    "---\n",
    "## GPT-4 does quick look at MATLAB code for Alicia\n",
    "\n",
    "instructor: \n",
    "\n",
    "In this MATLAB code, it appears the peak Brillouin frequency for each file is being computed by performing a short-time Fourier transform (STFT) and then finding the maximum frequency in the resulting frequency domain representation.\n",
    "\n",
    "Let's break it down:\n",
    "\n",
    "parfor fileidx = 1:numfile: This loop runs through each file where numfile is the total number of files.\n",
    "\n",
    "data(:,fileidx);: This accesses the data corresponding to the fileidxth file.\n",
    "\n",
    "reshape(I, [ReadingLength, FileAver]);: This reshapes the data from the file into a 2D-array, where each column corresponds to a different segment of the file.\n",
    "\n",
    "PH_STFT(I, advance,ReadingLength,nFFT,FileAver);: This performs the short-time Fourier transform on the reshaped data. This will result in a time-frequency representation of the signal.\n",
    "\n",
    "After looping through each file, the function collects the results to compute the mean spectrum using X_mean_dB = 10*log10((X_accum_folder./FileNum).^2);.\n",
    "\n",
    "The mean spectrum is then processed further (flip, mean subtraction, resampling) to isolate the relevant features and to reduce noise.\n",
    "\n",
    "The maximum frequency (peak) in the processed mean spectrum is then found using [X_peaks, I] = max(X_resamp, [], 1);, where X_resamp is the resampled mean spectrum.\n",
    "\n",
    "brillouin_peaks = peakfreqs(I); pinpoints the Brillouin peaks at the locations of maximal frequency.\n",
    "\n",
    "Finally, the Brillouin peak frequencies are plotted against distance using plot(distance/100, brillouin_peaks), and the results are saved (save(profilename,'brillouin_peaks','-v6');).\n",
    "\n",
    "Note that the PH_STFT function is user-defined and isn't provided in the given MATLAB code, so I've speculated its functionality based on typical practice and the name of the function. STFT is a common method used in signal analysis to determine the frequency content of local sections of a signal as it changes over time.\n",
    "\n",
    "This code essentially processes each file's data to extract the dominant (peak) Brillouin frequency for each segment of the signal, which is then used in the analysis and plotted for visual representation. These peaks represent the most significant frequency components in each section of the fiber, which can be directly linked to the physical properties (like temperature and strain) at the corresponding fiber location.\n",
    "\n",
    "---\n",
    "\n",
    "The digital signal from the fiber optic cable, which is an electrical signal converted from the optical signal passing through the cable, is likely to be processed by a Fourier Transform. The Fourier Transform is a mathematical tool that transforms a function of time, a time domain signal, into a function of frequency, called a frequency domain signal.\n",
    "\n",
    "In simple terms, Fourier Transform breaks down the original signal into a set of sine and cosine waves of different frequencies. By identifying the frequency content of the signal, we can identify the characteristics of the signal and its components at each frequency. This is particularly useful in fiber optics where different frequencies can be associated with different data streams, enabling us to identify and isolate each one.\n",
    "\n",
    "In the context of fiber optic sensors (e.g., distributed fiber optic sensing, DFOS), the \"length\" of fiber that a given datapoint represents can be determined by the speed of light (in the fiber) and the time of arrival of the backscattered signal. Each sampled data point in the signal acquisition can be mapped to a location in the fiber.\n",
    "\n",
    "In Fourier Domain analysis of these signals, the frequencies present give us information about the variation of the physical parameter being measured (temperature, strain etc.) along the length of the fiber.\n",
    "\n",
    "Please note that the MATLAB code snippet in question lacks detail on this processing. Additional understanding of the specific sensor system setup and its signal processing steps would be required for a precise explanation.\n",
    "\n",
    "It's important to have a deep understanding of the system under consideration when interpreting the results of such data analyses - especially when assigning physical meaning to the frequency content of such signals.\n",
    "\n",
    "User"
   ]
  },
  {
   "cell_type": "markdown",
   "metadata": {},
   "source": [
    "## Use Github CoPilot"
   ]
  },
  {
   "cell_type": "markdown",
   "metadata": {},
   "source": [
    "Example of Fourier analysis: show composition of square wave\n",
    "Rewrite this to apply to Alicia waveform.\n",
    "How is waveform stored? Samples at what sampling frequency?\n",
    "What does the python signal library contain? Square. What else?\n",
    "\n",
    "Scipy  \"integrate\" contains \"integrate.quad\", used to calculate the first $a_0$ coefficient;"
   ]
  },
  {
   "cell_type": "code",
   "execution_count": null,
   "metadata": {},
   "outputs": [],
   "source": [
    "from scipy import signal, integrate\n",
    "import matplotlib.pyplot as plt\n",
    "import numpy as np"
   ]
  },
  {
   "cell_type": "markdown",
   "metadata": {},
   "source": [
    "Now, define a function for a square wave and plot it for inspection. The square wave will be characterised by the following:\n",
    "* sample frequency $f_s$ of 1kHz,\n",
    "* a fundamental period $T$ of 2$\\pi$,\n",
    "* an amplitude of 3,\n",
    "* a DC bias of +3."
   ]
  },
  {
   "cell_type": "code",
   "execution_count": null,
   "metadata": {},
   "outputs": [],
   "source": [
    "def squarewave(x, amplitude=3, dcbias=3, phase=np.pi/4):\n",
    "    return signal.square(x+phase)*amplitude+dcbias\n",
    "\n",
    "fs = 1e3\n",
    "x = np.arange(-2*np.pi, 2*np.pi, 1/fs)\n",
    "plt.plot(x, squarewave(x), label='Square Wave', linestyle='dashed')\n",
    "plt.ylim([-1, 7])\n",
    "plt.xlim([-2*np.pi, 2*np.pi])\n",
    "plt.xlabel('Phase (Radians)')\n",
    "plt.ylabel('Amplitude')\n",
    "plt.show()"
   ]
  },
  {
   "cell_type": "code",
   "execution_count": null,
   "metadata": {},
   "outputs": [],
   "source": [
    "from scipy import signal, integrate\n",
    "import matplotlib.pyplot as plt\n",
    "import numpy as np"
   ]
  },
  {
   "cell_type": "code",
   "execution_count": null,
   "metadata": {},
   "outputs": [],
   "source": [
    "import numpy as np\n",
    "import matplotlib.pyplot as plt\n",
    "\n",
    "# this plots the sum of two cosines, one at 3000Hz, one at 9000Hz\n",
    "# the result is sampled at 48000Hz; higher sample rates zoom in\n",
    "# Plot the cosine functions; break down why there is a pi/4 phase shift; \n",
    "# why 3000 x 16 x 1/48e3?\n",
    "\n",
    "# Define time-related parameters\n",
    "N= 100000\n",
    "n = np.arange(0, N)  # Time index; how many samples to show\n",
    "\n",
    "#ts = 1 / 10000  # Time step: #low frequency sampling#\n",
    "#fs = 48e3 # Sampling frequency from JN: misses 9000 max\n",
    "#fs = 96e3 # Sampling frequency\n",
    "fs = 48e6 # Sampling frequency high\n",
    "\n",
    "ts = 1/fs # Regular sampling period\n",
    "\n",
    "# Define the signal equation\n",
    "a = 0.5 * np.cos(2 * np.pi * 3e3 * n * ts + np.pi / 4)\n",
    "#a = 0.5 * np.cos(2 * np.pi * 3e3 * n * ts )\n",
    "b = np.cos(2*np.pi*9e3*n*ts)\n",
    "\n",
    "# Plot the signal\n",
    "\n",
    "plt.plot(n,a) #plot the 3000\n",
    "plt.plot(n,b) #plot the 9000\n",
    "plt.plot(n,a+b) #add the two cosines\n",
    "\n",
    "plt.xlabel('Time Index (n)')\n",
    "plt.ylabel('Amplitude')\n",
    "plt.title('Signal a,b, a+b: 0.5 * cos(2*pi*3e3*n*ts + pi/4) + b')\n",
    "plt.grid(True)\n",
    "plt.show()\n"
   ]
  },
  {
   "cell_type": "markdown",
   "metadata": {},
   "source": [
    "---\n",
    "## Notes on specific hardware components of RFSoC to use in replacing current Alicia components\n",
    "#### Spectrum Analyzer PYNQ\n",
    "\n",
    "**A significant portion of the design has been implemented in the RFSoC's PL to prevent the PS from applying highly computational arithmetic. There is a spectrum analyser for each available RF ADC channel in the design. The spectrum Analysers are also interfaced to their very own flexible decimator, allowing different sample rates to be configured for each channel.**\n",
    "\n"
   ]
  }
 ],
 "metadata": {
  "kernelspec": {
   "display_name": "Python 3",
   "language": "python",
   "name": "python3"
  },
  "language_info": {
   "name": "python",
   "version": "3.10.9"
  }
 },
 "nbformat": 4,
 "nbformat_minor": 2
}
