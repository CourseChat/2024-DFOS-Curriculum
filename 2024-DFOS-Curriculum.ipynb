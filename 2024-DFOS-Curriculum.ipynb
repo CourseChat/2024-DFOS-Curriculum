{
 "cells": [
  {
   "cell_type": "markdown",
   "metadata": {},
   "source": [
    "# 2024 DFOS Curriculum"
   ]
  },
  {
   "cell_type": "markdown",
   "metadata": {},
   "source": [
    "### Outline \n",
    " Based on discussions by the 2023-2024 DFOS Alicia Working Group and by the projects of the SRG 2023 Summer Intern program, this is a sketch of a possible short course: **Building Infrastructure Health Monitoring Systems**. \n",
    " \n",
    " **Approach**: Start with published paper. Examine technical components used: physical objects monitored; DFOS FUT physical structure; interrogater component structure,vendors,optical components; interrogator parameters; optical, RF, computing elements; Brillouin, Raman, Rayleigh, other; software stack;data acquisition and analysis.  Use existing sensor structure from each paper, **build or re-engineer** interrogator technology using new **RFSoC** hardware and software.\n",
    "\n",
    " Spurred by the sudden availability of an [**unexpectedly powerful computational environment from the University of Strathclyde**](https://www.rfsocbook.com/), we suggest **reimplementing seven existing research projects**  using the new, integrated, shared hardware and software environment provided by the RFSoC system: integrated parallel computation, FPGA, FFT, GPU, RF, photonics. \n",
    "\n",
    " Immediate goal: explore pathways for 100X interrogator cost reduction ; explore Brillouin, Raleigh, Raman multi-mode operation with a variety of phase,polarity or frequency-scanning options. Characterize expansion of today's sensing and monitoring market--from oil/gas to all infrastructure--based on 100X cost reduction.\n",
    "\n",
    " In exploring each integration, use the existing project sensor infrastructure. Extend it, using new RFSoC communications capabilities, new data analysis environments, and new computational extensions. Substitute new hardware capabilities for prior computational workflows in sampling, spectrum analysis, and filtering.\n",
    "\n",
    " Accompany each reimplementation with an accompanying expanded curriculum: applied mathematics (linear algebra), signal processing, programming languages, photonics, spectrum  analysis, computational architecture, metamaterials, machine learning, testing and validation, and design.\n",
    "\n",
    " In each project, expand interrogator capabilities; explore Brillouin, Raleigh, Raman modes; expand temperature and strain measurements; integrate with digital twin environments; expand 3D visualization; explore ground-penetrating radar; "
   ]
  },
  {
   "cell_type": "markdown",
   "metadata": {},
   "source": [
    "---\n",
    "### EBMUD Claremont Interrogator: Hayward Fault\n",
    "\n",
    "2024-January: **EBMUD Alicia: Phase 0; Retool interrogator: additional parameters**\n",
    "\n",
    "Insert current system diagram; Phase One rebuild of existing Picoscope; laser; photodiode; splitters; circulator; show system simplification; sketch photonics integration pathway to extreme cost reduction; estimate market distribution, potential new sectors;\n",
    "\n",
    "Insert rewritten and commented MATLAB code, with extended comments on FFT implementation; Brillouin Peaks found by frequency sweeps; details of centimeter resolution for temperature and microstrain\n",
    "\n",
    "Explain spectrum and parameter settings: Signal to Noise Ratio; speed of light; strain; frequency scanning step;optical path length change;sampling rate; Nyquist zone; microstrain resolution; temperature resolution;"
   ]
  },
  {
   "cell_type": "markdown",
   "metadata": {},
   "source": [
    "---\n",
    "### Road surface (extend to permeable installations)\n",
    "##### Create extension of proven fiber-melt-in-street to every ongoing asphalt resurfacing project in EBMUD service territory. Estimated 5-20 city blocks/week;\n",
    "\n",
    "[2022-August: **Richmond Field Station: Road monitoring using asphalt-embedded distributed acoustic sensing (DAS): Real-time movement detection**](https://onlinelibrary-wiley-com.libproxy.berkeley.edu/doi/10.1002/stc.3067)\n",
    "\n",
    "Explore overlapping video monitoring, water flow detection, lidar surface condition;"
   ]
  },
  {
   "cell_type": "markdown",
   "metadata": {},
   "source": [
    "---\n",
    "### Berkeley Geothermal Heating\n",
    "[**Berkeley Geothermal Heating**](https://ce.berkeley.edu/news/2699)\n",
    "\n",
    "[**Borehole Sensing**](https://news.berkeley.edu/2022/03/30/uc-berkeley-drills-400-foot-borehole-to-explore-geothermal-heating-on-campus/?utm_source=Berkeleyan&utm_campaign=5b467fe571-berkeleyan&utm_medium=email&utm_term=0_99ee3800d7-5b467fe571-389205568)\n",
    "\n",
    "[**Seismic Sensor Network**](https://seismo.berkeley.edu/networks/index.html)\n",
    "\n",
    "[**LBL FEM Geothermal Model**](https://catalog.data.gov/dataset/an-hpc-based-hydrothermal-finite-element-simulator-for-modeling-underground-geothermal-beh)\n",
    "\n",
    "[**2021-Feb: Hydrothermal FEM; Treasure Island**](https://pangea.stanford.edu/ERE/pdf/IGAstandard/SGW/2021/Sun.pdf)\n",
    "\n",
    "\n",
    "\n",
    "\n",
    "UC Berkeley Energy Sustainability: Boreholes and Heat Pumps"
   ]
  },
  {
   "cell_type": "markdown",
   "metadata": {},
   "source": [
    "---\n",
    "### Levees\n",
    "[2023-March: **Application of Distributed Fiber Optic Sensing for Subsurface Levee Monitoring**](https://www.researchgate.net/publication/369497936_Application_of_Distributed_Fiber_Optic_Sensing_for_Subsurface_Levee_Monitoring)\n",
    "\n",
    "Vertical monitoring of water levels; direct embedding in soil. Provide  readings  of  the  long-term  subsurface  strain  and temperature  fluctuations  along  the  landside  of  the  levee.\n",
    "\n",
    "Extend to UC Davis Sacramento Levee measurement: "
   ]
  },
  {
   "cell_type": "markdown",
   "metadata": {},
   "source": [
    "---\n",
    "\n",
    "### Sea Level Rise Monitoring\n",
    "### Groundwater Monitoring\n",
    "\n",
    "Design new monitoring of all California wells. Note large discrepency in groundwater extraction reports.\n",
    "\n",
    "Couple with strong enforcement of [CA Sustainable Groundwater Management Act](https://water.ca.gov/Programs/Groundwater-Management/SGMA-Groundwater-Management/Groundwater-Sustainability-Plans) requirements for borehole monitoring.\n",
    "\n",
    "[USGS View](https://ca.water.usgs.gov/sustainable-groundwater-management/groundwater-levels-california.html)\n",
    "\n",
    "[CA Department of Water Resources: Live Groundwater and Wells](https://sgma.water.ca.gov/CalGWLive/#wells)"
   ]
  },
  {
   "cell_type": "markdown",
   "metadata": {},
   "source": [
    "---\n",
    "### Wind Turbines\n",
    "[2023-August **Fiber Optic Vibration Monitoring of Offshore Wind Turbines**](https://www.researchgate.net/publication/372843188_A_Shake-Table_Test_to_Evaluate_Fiber_Optic_Vibration_Monitoring_of_Offshore_Wind_Turbines)\n",
    "\n",
    "Optical Frequency Domain Reflectometry (OFDR) and Phase-based Time Domain Reflectometry\n",
    "\n",
    "[2021-May: Dynamic structural health monitoring of a model wind turbine tower using distributed acoustic sensing (DAS)](https://www.researchgate.net/publication/351356524_Dynamic_structural_health_monitoring_of_a_model_wind_turbine_tower_using_distributed_acoustic_sensing_DAS)"
   ]
  },
  {
   "cell_type": "markdown",
   "metadata": {},
   "source": [
    "---\n",
    "### Seabed and Oceans\n",
    "[**Distributed Acoustic Sensing on Oceans Observatories Initiative Regional Network**](https://oceanobservatories.org/pi-instrument/rapid-a-community-test-of-distributed-acoustic-sensing-on-the-ocean-observatories-initiative-regional-cabled-array/)\n",
    "\n",
    "[**2023-February: Distributed acoustic sensing recordings of low-frequency whale calls**](https://pubs.aip.org/asa/jel/article/3/2/026002/2874322/Distributed-acoustic-sensing-recordings-of-low)"
   ]
  },
  {
   "cell_type": "markdown",
   "metadata": {},
   "source": [
    "---\n",
    "### Tunnels\n",
    "[**Improve Tunnel Segmental Joint Crack Monitoring**](https://www.researchgate.net/profile/Chenjie-Gong/publication/317157076_Comparison_of_the_structural_behavior_of_reinforced_concrete_and_steel_fiber_reinforced_concrete_tunnel_segmental_joints/links/5bcd513f458515f7d9d0260b/Comparison-of-the-structural-behavior-of-reinforced-concrete-and-steel-fiber-reinforced-concrete-tunnel-segmental-joints.pdf)\n",
    "\n",
    "---"
   ]
  },
  {
   "cell_type": "markdown",
   "metadata": {},
   "source": [
    "First draft attempt: rewrite and annotate StrathClyde text with accompanying JN.\n",
    "Retain links to original texts; \n",
    "Build doc for Github repository that links text to JN; expand areas that reference FFT sequence.  Establish unique DFOS parameters, derived from "
   ]
  },
  {
   "cell_type": "markdown",
   "metadata": {},
   "source": [
    "Refer to this Obsidan URL for the descriptive text from Soga, Liu, Chien et al: obsidian://open?vault=MainAction&file=Action%2FApplication%20of%20Distributed%20Fiber%20Optic%20Sensing%20for%20Subsurface%20Levee%20Monitoring"
   ]
  },
  {
   "cell_type": "markdown",
   "metadata": {},
   "source": [
    "#### Developing DFOS implementations using StrathClyde text with .... hardware support\n"
   ]
  },
  {
   "cell_type": "markdown",
   "metadata": {},
   "source": [
    "**Software Defined Radio with Zynq UltraScale + RFSoC**\n",
    "AMD; University of Strathclyde, Glasgow\n",
    "www.RFSoCbook.com\n",
    "ISBN 978-1-7395886-0-1\n",
    "2023; 717 pages; https://www.RFSoCbook.com; 19 chapters; 9 Jupyter Notebooks"
   ]
  },
  {
   "cell_type": "code",
   "execution_count": null,
   "metadata": {},
   "outputs": [],
   "source": [
    "# Retrieve book; JN"
   ]
  },
  {
   "cell_type": "markdown",
   "metadata": {},
   "source": [
    "\n",
    "Signal processing fundamentals: sampling rate, quantizing, Nyquist 1; filters:low-pass;\n",
    "Establishing characteristics of a specific fiber-optic cable: optical density: M, N\n",
    "Testing and calibrating each cable\n",
    "Measurement of the Brillouin frequency of the backscattered light\n",
    "Calculating the location of each measurement point for the backscattered signal using a time-of-flight calculation based on the speed of light in the fiber core. How to measure that speed.\n",
    "Calculating **changes in the value of the Brillouin frequency peak** at each measurement point.\n",
    " ∆𝜈 = 𝑀∆𝜀 + 𝑁∆𝑇\n",
    " US Patent US20190195665A1\n",
    " The system provides strain data every 4 inches (10 centimeters) with a spatial resolution of 3.3 feet (1 meter) and a strain precision of +20 µε and a temperature precision of +1.8° Fahrenheit (1°C)."
   ]
  },
  {
   "cell_type": "markdown",
   "metadata": {},
   "source": [
    "Relevant texts:\n",
    "**A: Optical Fibre Sensors-Fundamentals for Development of Optimized Devices**\n",
    "Edited by Ignacio Del Villar,Ignacio R. Matiasz, IEEE Press, John Wiley\n",
    "Identifiers: LCCN 2020020787 (print) | LCCN 2020020788 (ebook) | ISBN 9781119534761 (cloth) | ISBN 9781119534778 (adobe pdf) | ISBN 9781119534792 (epub)\n",
    "https://onlinelibrary-wiley-com.libproxy.berkeley.edu/doi/epub/10.1002/9781119534730\n",
    "**Chapter 4: Basic Detection Techniques**\n",
    "Daniele Tosi1,2 and Carlo Molardi1\n",
    "1 School of Engineering, Nazarbayev University, Astana, Kazakhstan\n",
    "2 Laboratory of Biosensors and Bioinstruments, National Laboratory Astana Astana, Kazakhstan\n",
    "\n",
    "**Chapter 5: Structural Health Monitoring Using Distributed Fibre‐Optic Sensors**\n",
    "Alayn Loayssa\n",
    "Department of Electrical, Electronic and Communications Engineering, Public University of Navarre, Pamplona, Spain\n",
    "**Chapter 6: Distributed Sensors in the Oil and Gas Industry**\n",
    "Arthur H. Hartog\n",
    "Worthy Photonics Ltd, Winchester, UK\n",
    "Overview\n",
    "**Chapter 14: Fibre‐Optic Sensing: Past Reflections and Future Prospects**\n",
    "Brian Culshaw 1 and Marco N. Petrovich 2\n",
    "1 Department of Electronic and Electrical Engineering, University of Strathclyd, Glasgow, Scotland, UK\n",
    "2 Optoelectronics Research Centre, University of Southampton, Southampton, UK"
   ]
  },
  {
   "cell_type": "markdown",
   "metadata": {},
   "source": [
    "### Purchase several RFSoC systems, for use in reimplementing Alicia, in exploring new Alicia architectures, and in supporting a graduate DFOS seminar\n",
    "1. Develop several pathways exploring techniques to move existing MATLAB code to the Jupyter and Python environment.\n",
    "2. Elucidate the parameter-setting, testing and evaluation framework for specific implementations, eg, EBMUD Claremont, US Army Corp of Engineers, Schlumberger, UC Berkeley borehole heat pump installations\n"
   ]
  }
 ],
 "metadata": {
  "kernelspec": {
   "display_name": "Python 3",
   "language": "python",
   "name": "python3"
  },
  "language_info": {
   "name": "python",
   "version": "3.10.9"
  }
 },
 "nbformat": 4,
 "nbformat_minor": 2
}
