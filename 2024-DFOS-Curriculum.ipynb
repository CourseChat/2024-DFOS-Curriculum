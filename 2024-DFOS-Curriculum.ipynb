{
 "cells": [
  {
   "cell_type": "markdown",
   "metadata": {},
   "source": [
    "# 2024 DFOS Curriculum"
   ]
  },
  {
   "cell_type": "markdown",
   "metadata": {},
   "source": [
    "### Outline \n",
    " This is a sketch of a possible short course, based on discussions by the 2023-2024 DFOS Alicia Working Group and the projects of the SRG 2023 Summer Intern program\n",
    " \n",
    " [ **Building Infrastructure Health Monitoring Systems With DFOS** ](https://docs.google.com/document/d/1p9bG9ok7YLM6nHOUZmzUS0pt6FY5twGX7JOXrjQDui0/edit#heading=h.6xgc0krord6p)\n",
    "\n",
    " #### Goal: Enable a class to build systems capable of demonstrating the truth of this statement: \n",
    " *The system provides strain data every 4 inches (10 centimeters) with a spatial resolution of 3.3 feet (1 meter) and a strain precision of +20 µε and a temperature precision of +1.8° Fahrenheit (1°C).*\n",
    "\n",
    "Provide students with programmable interrogators and a variety of existing fiber collection systems with existing historical data sets. In contrast to today's vendor-controlled environment, where the [Luna OBR-4600](https://lunainc.com/product/obr-4600) or the [Luna Quant-X](https://www.optasense.com/technology/quantx/) constrain users to Luna-provided visualizations and analysis, open systems allow freedom to explore in a rapidly changing environment . Explore tradeoffs of resolution, spatial accuracy, and precision, with freedom to configure fibers, lasers, photodetectors, and detector regimes for a variety of sensing challenges.\n",
    "\n",
    "More deeply, provide students with the mathematical and computational skills to innovate as technology changes.\n",
    "\n",
    "#### Quick example; import JN cells from the Strathclyde text"
   ]
  },
  {
   "cell_type": "code",
   "execution_count": 10,
   "metadata": {},
   "outputs": [],
   "source": [
    "import numpy as np\n",
    "import matplotlib.pyplot as plt"
   ]
  },
  {
   "cell_type": "code",
   "execution_count": 11,
   "metadata": {},
   "outputs": [],
   "source": [
    "# Short Time Fourier Transform\n",
    "# Set basic params\n",
    "fs = 1024 # sample rate\n",
    "f1 = 60 # frequency of first signal\n",
    "f2 = 120 # frequency of 2nd signal\n",
    "f3 = 250 # frequency of 3rd signal\n",
    "N  = 512 # fft size\n",
    "\n",
    "L = N*256 # we want 256 frames of 512 FFT windows\n",
    "\n",
    "# create a sampled sinusoid and corresponding frequencies for plotting\n",
    "sine_1 = np.sin(2*np.pi*f1*np.arange(L)/fs)\n",
    "sine_2 = 0.5*np.sin(2*np.pi*f2*np.arange(L)/fs)\n",
    "sine_3 = 0.7*np.sin(2*np.pi*f3*np.arange(L)/fs)\n",
    "\n",
    "sum_of_tones = sine_1 + sine_2 + sine_3"
   ]
  },
  {
   "cell_type": "markdown",
   "metadata": {},
   "source": [
    "We will reshape our sum of tones signal, so that it contains 256 frames of length 512."
   ]
  },
  {
   "cell_type": "code",
   "execution_count": 12,
   "metadata": {},
   "outputs": [
    {
     "data": {
      "text/plain": [
       "(256, 512)"
      ]
     },
     "execution_count": 12,
     "metadata": {},
     "output_type": "execute_result"
    }
   ],
   "source": [
    "# Short Time Fourier Transform\n",
    "sum_of_tones = sum_of_tones.reshape(-1,N)\n",
    "sum_of_tones.shape"
   ]
  },
  {
   "cell_type": "code",
   "execution_count": 13,
   "metadata": {},
   "outputs": [],
   "source": [
    "# Short Time Fourier Transform\n",
    "# Compute FFT and calculate the PSD\n",
    "\n",
    "X = np.fft.fft(sum_of_tones*np.hamming(N), N)[:,:int(N/2)]\n",
    "Xlog = 10*np.log10(2*np.abs(X)**2/N)\n",
    "\n",
    "# Get corresponding frequencies, take only positive spectrum\n",
    "freqs = np.fft.fftfreq(N,1/fs)[:int(N/2)]"
   ]
  },
  {
   "cell_type": "markdown",
   "metadata": {},
   "source": [
    "Now we can plot the log-scale power spectrum over time. Since we are plotting stationary signals (sine waves) we expect them to be fairly straight and unchanging over time."
   ]
  },
  {
   "cell_type": "code",
   "execution_count": 14,
   "metadata": {},
   "outputs": [],
   "source": [
    "# Short Time Fourier Transform: Waterfall\n",
    "fig = plt.figure(figsize=(10,5))\n",
    "ax = plt.axes()\n",
    "im = plt.pcolormesh(freqs, np.arange(int(L/N))/fs, Xlog, vmin=-50, shading='gouraud')\n",
    "ax.set_xlabel('Frequency, Hz')\n",
    "ax.set_ylabel('Time, s')\n",
    "ax.set_title('Waterfall Plot')\n",
    "fig.colorbar(im)\n",
    "plt.show()"
   ]
  },
  {
   "cell_type": "markdown",
   "metadata": {},
   "source": [
    "\n",
    " \n",
    " **Approach**: Use the infrastructure of seven existing SRG  projects and published papers to build libraries of Jupyter-Notebook-enabled interrogators with RFSoC hardware. \n",
    " <details open>\n",
    "<summary>▶︎ Use existing SRG and CSI DFOS projects </summary>\n",
    "\n",
    "<br>\n",
    "\n",
    "1. [EBMUD Claremont Alicia interrogator](https://docs.google.com/document/d/1p9bG9ok7YLM6nHOUZmzUS0pt6FY5twGX7JOXrjQDui0/edit#heading=h.6xgc0krord6p)\n",
    "\n",
    "2. [Richmond Field Station Fiber-In-Road Embedding](https://onlinelibrary-wiley-com.libproxy.berkeley.edu/doi/10.1002/stc.3067)\n",
    "\n",
    "3. [UC Berkeley Geothermal Heat Pump boreholes](https://ce.berkeley.edu/news/2699)\n",
    "\n",
    "4. [US Army Corps Levee embedding]\n",
    "\n",
    "5. [Sea Level Rise: Alameda / CA Ground Water Well Monitoring]\n",
    "]\n",
    "6. [Wind Turbine Blade monitoring]\n",
    "\n",
    "7. [Sea Bed / Acoustic Ocean]\n",
    "\n",
    "8. Potential: [Electric power distribution] / [Battery temperature monitoring]\n",
    "</details>\n",
    "<br>\n",
    "\n",
    " <details>\n",
    " <summary>▶︎ Examine the technical components used by each project:</summary>\n",
    "\n",
    "  + the physical infrastructure monitored; \n",
    "  + the desired monitoring values; \n",
    "+ the DFOS FUT physical structure; \n",
    "+ the interrogater component structure; \n",
    "+ vendors of optical, RF, power and computing components; \n",
    "  + future optical, RF, power components from vendors\n",
    "  + vendor partnerships\n",
    "+ desired interrogator parameters;  \n",
    "+ computing and data storage elements; \n",
    "+ appropriate use of Brillouin, Raman, Rayleigh, or other data sources; \n",
    "  <br>\n",
    "+ updated software stack; \n",
    "  <br>\n",
    "+ the data acquisition and analysis logic. \n",
    " </details>\n"
   ]
  },
  {
   "cell_type": "markdown",
   "metadata": {},
   "source": [
    " **Build or re-engineer** the interrogator technology using new **RFSoC** hardware and software. Use the existing sensor structure from each paper or ongoing project to test each solution.  This will entail moving existing code from MATLAB to Python, deciding on the appropriate Python libraries, building an sequence of Jupyter Notebooks to implement the new functionality, and designing the appropriate fabric of optical, RF, and computational components given the new capabilities of the **RFSoC** system."
   ]
  },
  {
   "cell_type": "markdown",
   "metadata": {},
   "source": [
    "\n",
    " Spurred by the sudden availability of an [**unexpectedly powerful computational environment from the University of Strathclyde**](https://www.rfsocbook.com/), we suggest **reimplementing seven existing SRG research projects**  using the new, integrated, shared hardware and software environment provided by the RFSoC system: integrated parallel computation, FPGA, FFT, GPU, RF, photonics, and a software environment built on Jupyter Notebooks, Python, and hard-coded FPGA hardware support. \n"
   ]
  },
  {
   "cell_type": "markdown",
   "metadata": {},
   "source": [
    "\n",
    "<details>\n",
    " <summary> \n",
    " \n",
    " ▶︎ ▶︎ **Immediate goal: 100X interrogator cost reduction**  </summary>\n",
    "<br> \n",
    " + Now, easy integration of FPGA with general computing at board level; next,  photonics on CMOS to merge optics and computing. \n",
    " + Enable all forms of complementary sensing  Brillouin, Raleigh, Raman multi-mode operation;  explore a variety of phase, polarity or frequency-scanning combinations. \n",
    " + Examine today's market distribution: Luna, \n",
    " + Huge market shift--from oil and gas, avionics to structural, biological, chemical, transport, process, power, geotechnical,RF and sonic infrastructure--based on 100X cost reduction.\n",
    " + Implement partnerships with constructors and builders, such as San Raphael *Redhorse Constructors*, to install DFOS on existing and new projects in anticipation of cheap interrogators\n",
    " + Embed fiber in every asphalt repaving project in every city and county\n",
    "</details>\n",
    "\n",
    "\n",
    " In exploring each integration, use the existing project sensor infrastructure. Extend it, using new RFSoC communications capabilities, new data analysis environments, and new computational extensions. Substitute new hardware capabilities for prior computational workflows in sampling, spectrum analysis, and filtering.\n",
    "\n",
    " Accompany each reimplementation with an accompanying expanded curriculum: applied mathematics (linear algebra), signal processing, programming languages, photonics, spectrum  analysis, computational architecture, metamaterials, machine learning, testing and validation, and design.\n",
    "\n",
    " In each project, expand interrogator capabilities; explore Brillouin, Raleigh, Raman modes; expand temperature and strain measurements; integrate with digital twin environments; expand 3D visualization; explore ground-penetrating radar; "
   ]
  },
  {
   "cell_type": "markdown",
   "metadata": {},
   "source": [
    "# The most important engine for rapid advance is an open software environment for experimentation, rapid prototyping, and agile implementations\n",
    "Below are some simple Jupyter Notebook cells drawn from the Strathclyde text"
   ]
  },
  {
   "cell_type": "markdown",
   "metadata": {},
   "source": [
    "### Example JN: Note: Computing Short FFT, then plotting power spectrum in waterfall plot; may take time to execute; wait for MyBinder to execute JN"
   ]
  },
  {
   "cell_type": "markdown",
   "metadata": {},
   "source": [
    "---\n",
    "[### EBMUD Claremont Interrogator: Hayward Fault](https://docs.google.com/document/d/1p9bG9ok7YLM6nHOUZmzUS0pt6FY5twGX7JOXrjQDui0/edit#heading=h.6xgc0krord6p)\n",
    "\n",
    "2024-January: **EBMUD Alicia: Phase 0; Retool interrogator: additional parameters**\n",
    "\n",
    "Current system diagram; consolidation: Phase One; elimination of existing Picoscope; laser; photodiode; splitters; circulator; system simplification; sketch photonics integration pathway to extreme cost reduction; estimate market distribution, potential new sectors;\n",
    "\n",
    "Insert rewritten and commented MATLAB code, with extended comments on FFT implementation; Brillouin Peaks found by frequency sweeps; details of centimeter resolution for temperature and microstrain\n",
    "\n",
    "Explain spectrum and parameter settings: Signal to Noise Ratio; speed of light; strain; frequency scanning step;optical path length change;sampling rate; Nyquist zone; microstrain resolution; temperature resolution;"
   ]
  },
  {
   "cell_type": "markdown",
   "metadata": {},
   "source": [
    "---\n",
    "### Road surface (extend to permeable installations)\n",
    "##### Create extension of proven fiber-melt-in-street to every ongoing asphalt resurfacing project in EBMUD service territory. Estimated 5-20 city blocks/week;\n",
    "\n",
    "[2022-August: **Richmond Field Station: Road monitoring using asphalt-embedded distributed acoustic sensing (DAS): Real-time movement detection**](https://onlinelibrary-wiley-com.libproxy.berkeley.edu/doi/10.1002/stc.3067)\n",
    "\n",
    "Explore overlapping video monitoring, water flow detection, lidar surface condition;"
   ]
  },
  {
   "cell_type": "markdown",
   "metadata": {},
   "source": [
    "---\n",
    "### Berkeley Geothermal Heating\n",
    "[**Berkeley Geothermal Heating**](https://ce.berkeley.edu/news/2699)\n",
    "\n",
    "[**Borehole Sensing**](https://news.berkeley.edu/2022/03/30/uc-berkeley-drills-400-foot-borehole-to-explore-geothermal-heating-on-campus/?utm_source=Berkeleyan&utm_campaign=5b467fe571-berkeleyan&utm_medium=email&utm_term=0_99ee3800d7-5b467fe571-389205568)\n",
    "\n",
    "[**Seismic Sensor Network**](https://seismo.berkeley.edu/networks/index.html)\n",
    "\n",
    "[**LBL FEM Geothermal Model**](https://catalog.data.gov/dataset/an-hpc-based-hydrothermal-finite-element-simulator-for-modeling-underground-geothermal-beh)\n",
    "\n",
    "[**2021-Feb: Hydrothermal FEM; Treasure Island**](https://pangea.stanford.edu/ERE/pdf/IGAstandard/SGW/2021/Sun.pdf)\n",
    "\n",
    "\n",
    "\n",
    "\n",
    "UC Berkeley Energy Sustainability: Boreholes and Heat Pumps"
   ]
  },
  {
   "cell_type": "markdown",
   "metadata": {},
   "source": [
    "---\n",
    "### Levees\n",
    "[2023-March: **Application of Distributed Fiber Optic Sensing for Subsurface Levee Monitoring**](https://www.researchgate.net/publication/369497936_Application_of_Distributed_Fiber_Optic_Sensing_for_Subsurface_Levee_Monitoring)\n",
    "\n",
    "Vertical monitoring of water levels; direct embedding in soil. Provide  readings  of  the  long-term  subsurface  strain  and temperature  fluctuations  along  the  landside  of  the  levee.\n",
    "\n",
    "Extend to UC Davis Sacramento Levee measurement: "
   ]
  },
  {
   "cell_type": "markdown",
   "metadata": {},
   "source": [
    "---\n",
    "\n",
    "### Sea Level Rise Monitoring\n",
    "### Groundwater Monitoring\n",
    "\n",
    "Design new monitoring of all California wells. Note large discrepency in groundwater extraction reports.\n",
    "\n",
    "Couple with strong enforcement of [CA Sustainable Groundwater Management Act](https://water.ca.gov/Programs/Groundwater-Management/SGMA-Groundwater-Management/Groundwater-Sustainability-Plans) requirements for borehole monitoring.\n",
    "\n",
    "[USGS View](https://ca.water.usgs.gov/sustainable-groundwater-management/groundwater-levels-california.html)\n",
    "\n",
    "[CA Department of Water Resources: Live Groundwater and Wells](https://sgma.water.ca.gov/CalGWLive/#wells)"
   ]
  },
  {
   "cell_type": "markdown",
   "metadata": {},
   "source": [
    "---\n",
    "### Wind Turbines\n",
    "[2023-August **Fiber Optic Vibration Monitoring of Offshore Wind Turbines**](https://www.researchgate.net/publication/372843188_A_Shake-Table_Test_to_Evaluate_Fiber_Optic_Vibration_Monitoring_of_Offshore_Wind_Turbines)\n",
    "\n",
    "Optical Frequency Domain Reflectometry (OFDR) and Phase-based Time Domain Reflectometry\n",
    "\n",
    "[2021-May: Dynamic structural health monitoring of a model wind turbine tower using distributed acoustic sensing (DAS)](https://www.researchgate.net/publication/351356524_Dynamic_structural_health_monitoring_of_a_model_wind_turbine_tower_using_distributed_acoustic_sensing_DAS)"
   ]
  },
  {
   "cell_type": "markdown",
   "metadata": {},
   "source": [
    "---\n",
    "### Seabed and Oceans\n",
    "[**Distributed Acoustic Sensing on Oceans Observatories Initiative Regional Network**](https://oceanobservatories.org/pi-instrument/rapid-a-community-test-of-distributed-acoustic-sensing-on-the-ocean-observatories-initiative-regional-cabled-array/)\n",
    "\n",
    "[**2023-February: Distributed acoustic sensing recordings of low-frequency whale calls**](https://pubs.aip.org/asa/jel/article/3/2/026002/2874322/Distributed-acoustic-sensing-recordings-of-low)"
   ]
  },
  {
   "cell_type": "markdown",
   "metadata": {},
   "source": [
    "---\n",
    "### Tunnels\n",
    "[**Improve Tunnel Segmental Joint Crack Monitoring**](https://www.researchgate.net/profile/Chenjie-Gong/publication/317157076_Comparison_of_the_structural_behavior_of_reinforced_concrete_and_steel_fiber_reinforced_concrete_tunnel_segmental_joints/links/5bcd513f458515f7d9d0260b/Comparison-of-the-structural-behavior-of-reinforced-concrete-and-steel-fiber-reinforced-concrete-tunnel-segmental-joints.pdf)\n",
    "\n",
    "---"
   ]
  },
  {
   "cell_type": "markdown",
   "metadata": {},
   "source": [
    "# Building a curriculum based on implementing DFOS"
   ]
  },
  {
   "cell_type": "markdown",
   "metadata": {},
   "source": [
    "---\n",
    "## Adapting the RFSoC Textbook and Jupyter Notebooks for DFOS\n",
    "**Chapter 4: DSP Fundamentals** : use existing project data acquisition to illustrate sampling rates, quantization, and aliasing problems. Explain the impact on spatial resolution of choice of sampling rates, quantization, and the interrelationship of strain and temperature.\n",
    "\n",
    "Modify **Notebook Set B: DSP Fundamentals**, to explore ADC and DAC implementation; show filter impact on harmonics; explore sampling rates.\n",
    "\n",
    "**Chapter 5: Spectral Analysis**: extend the discussion of FFT with examples of Brillouin and Rayleigh OTDR,  φ-OTDR, OFDR, and DAS\n",
    "\n",
    "Modify **Notebook Set C** to explore time domain and frequency domain representatons of frames of data; use existing sets of field data from each published project as examples.  Explore DAC, ADC.  Explore FPGA implementations.\n",
    "\n",
    "---\n"
   ]
  },
  {
   "cell_type": "markdown",
   "metadata": {},
   "source": [
    "## "
   ]
  },
  {
   "cell_type": "markdown",
   "metadata": {},
   "source": [
    "First draft attempt: rewrite and annotate StrathClyde text with accompanying JN.\n",
    "Retain links to original texts; \n",
    "Build doc for Github repository that links text to JN; expand areas that reference FFT sequence.  Establish unique DFOS parameters, derived from "
   ]
  },
  {
   "cell_type": "markdown",
   "metadata": {},
   "source": [
    "Side Note to be ignored:  Obsidan URL for the descriptive text from Soga, Liu, Chien et al: obsidian://open?vault=MainAction&file=Action%2FApplication%20of%20Distributed%20Fiber%20Optic%20Sensing%20for%20Subsurface%20Levee%20Monitoring"
   ]
  },
  {
   "cell_type": "markdown",
   "metadata": {},
   "source": [
    "#### Exploring DFOS implementations using StrathClyde RFSoC hardware support\n",
    "Picoscope replacement\n"
   ]
  },
  {
   "cell_type": "markdown",
   "metadata": {},
   "source": [
    "---\n",
    "**Software Defined Radio with Zynq UltraScale + RFSoC**\n",
    "AMD; University of Strathclyde, Glasgow\n",
    "\n",
    "www.RFSoCbook.com\n",
    "\n",
    "ISBN 978-1-7395886-0-1\n",
    "\n",
    "2023; 717 pages; \n",
    "\n",
    "https://www.RFSoCbook.com; 19 chapters; 9 Jupyter Notebooks\n",
    "\n",
    "---"
   ]
  },
  {
   "cell_type": "code",
   "execution_count": null,
   "metadata": {},
   "outputs": [],
   "source": [
    "### Quick how-to:  Retrieve book; JN"
   ]
  },
  {
   "cell_type": "markdown",
   "metadata": {},
   "source": [
    "---\n",
    "### Specific course topics\n",
    "Signal processing fundamentals: sampling rate, quantizing, Nyquist 1; filters:low-pass;\n",
    "\n",
    "Establishing characteristics of a specific fiber-optic cable: optical density: M, N\n",
    "\n",
    "Testing and calibrating each cable: speed of light; \n",
    "\n",
    "Measurement of the Brillouin frequency of the backscattered light\n",
    "\n",
    "Calculating the location of each measurement point for the backscattered signal using a time-of-flight calculation based on the speed of light in the fiber core. How to measure that speed.\n",
    "\n",
    "Calculating **changes in the value of the Brillouin frequency peak** at each measurement point.\n",
    "\n",
    " ∆𝜈 = 𝑀∆𝜀 + 𝑁∆𝑇\n",
    "\n",
    " US Patent US20190195665A1; Use description to establish necessary interrogator parameters.\n",
    "\n",
    " *The system provides strain data every 4 inches (10 centimeters) with a spatial resolution of 3.3 feet (1 meter) and a strain precision of +20 µε and a temperature precision of +1.8° Fahrenheit (1°C).*\n",
    " ---"
   ]
  },
  {
   "cell_type": "markdown",
   "metadata": {},
   "source": [
    "---\n",
    "Relevant text 1:\n",
    "**Optical Fibre Sensors-Fundamentals for Development of Optimized Devices**\n",
    "\n",
    "Edited by Ignacio Del Villar,Ignacio R. Matiasz, \n",
    "\n",
    "**IEEE Press, John Wiley**\n",
    "\n",
    "Identifiers: LCCN 2020020787 (print) | LCCN 2020020788 (ebook) | ISBN 9781119534761 (cloth) | ISBN 9781119534778 (adobe pdf) | ISBN 9781119534792 (epub)\n",
    "\n",
    "https://onlinelibrary-wiley-com.libproxy.berkeley.edu/doi/epub/10.1002/9781119534730\n",
    "\n",
    "**Chapter 4: Basic Detection Techniques**\n",
    "\n",
    "Daniele Tosi 1,2 and Carlo Molardi 1\n",
    "\n",
    "1 School of Engineering, Nazarbayev University, Astana, Kazakhstan\n",
    "\n",
    "2 Laboratory of Biosensors and Bioinstruments, National Laboratory Astana Astana, Kazakhstan\n",
    "\n",
    "**Chapter 5: Structural Health Monitoring Using Distributed Fibre‐Optic Sensors**\n",
    "\n",
    "Alayn Loayssa\n",
    "\n",
    "Department of Electrical, Electronic and Communications Engineering, Public University of Navarre, Pamplona, Spain\n",
    "\n",
    "**Chapter 6: Distributed Sensors in the Oil and Gas Industry**\n",
    "\n",
    "Arthur H. Hartog\n",
    "\n",
    "Worthy Photonics Ltd, Winchester, UK\n",
    "\n",
    "Overview\n",
    "\n",
    "**Chapter 14: Fibre‐Optic Sensing: Past Reflections and Future Prospects**\n",
    "\n",
    "Brian Culshaw 1 and Marco N. Petrovich 2\n",
    "\n",
    "1 Department of Electronic and Electrical Engineering, University of Strathclyd, Glasgow, Scotland, UK\n",
    "\n",
    "2 Optoelectronics Research Centre, University of Southampton, Southampton, UK\n"
   ]
  },
  {
   "cell_type": "markdown",
   "metadata": {},
   "source": [
    "# Curriculum Project Timeline"
   ]
  },
  {
   "cell_type": "markdown",
   "metadata": {},
   "source": [
    "---\n",
    "## Suggested timeline\n",
    "\n",
    "**2024-January**\n",
    "\n",
    "### Purchase three or four RFSoC systems, for use in reimplementing Alicia, in exploring new Alicia architectures, and in supporting a seminar or workshop or short-course for DFOS\n",
    "\n",
    "1. Develop several pathways exploring techniques to move existing MATLAB code to the Jupyter and Python environment.\n",
    "    - Use OpenAI, Microsoft, Github, Code Explorer to rewrite MATLAB in Python, Julia\n",
    "    - Use interns, lower division, upper division, grads, PhD, Post-Doc, at different levels of computer sophistication, to rewrite code with aid of LLM, Anthropic, OpenAI, NVIDIA, Microsoft, Github tools\n",
    "\n",
    "    \n",
    "2. Elucidate the parameter-setting, testing and evaluation framework for specific implementations, eg, EBMUD Claremont, US Army Corp of Engineers, Schlumberger, UC Berkeley borehole heat pump installations\n",
    "\n",
    "**2024-February-May**\n",
    "Trials\n",
    "---\n"
   ]
  },
  {
   "cell_type": "markdown",
   "metadata": {},
   "source": [
    "# Software Porting to New Environment"
   ]
  },
  {
   "cell_type": "markdown",
   "metadata": {},
   "source": [
    "# Can GPT-4 rewrite LinQing Luo's MATLAB code to use the RSFoC Environment?\n",
    "The text below was generated by GPT-3.5 upon reading the MATLAB code; GPT-4 did a more comprehensive job; Gitub's Code Pilot may be the best yet.\n",
    "\n",
    "[Github Code Pilot](https://github.com/features/copilot)"
   ]
  },
  {
   "cell_type": "markdown",
   "metadata": {},
   "source": [
    "---\n",
    "## GPT-3.5 analyzes MATLAB code for Alicia\n",
    "\n",
    "*very helpful for a student; each step in the code can be annotated and explained*\n",
    "\n",
    "instructor: \n",
    "\n",
    "In this MATLAB code, it appears the peak Brillouin frequency for each file is being computed by performing a short-time Fourier transform (STFT) and then finding the maximum frequency in the resulting frequency domain representation.\n",
    "\n",
    "Let's break it down:\n",
    "\n",
    "**parfor fileidx = 1:numfile:** This loop runs through each file where numfile is the total number of files.\n",
    "\n",
    "data(:,fileidx);: This accesses the data corresponding to the fileidxth file.\n",
    "\n",
    "reshape(I, [ReadingLength, FileAver]);: This reshapes the data from the file into a 2D-array, where each column corresponds to a different segment of the file.\n",
    "\n",
    "PH_STFT(I, advance,ReadingLength,nFFT,FileAver);: **This performs the short-time Fourier transform on the reshaped data. This will result in a time-frequency representation of the signal.**\n",
    "\n",
    "After looping through each file, **the function collects the results to compute the mean spectrum using X_mean_dB = 10*log10((X_accum_folder./FileNum).^2);.**\n",
    "\n",
    "**The mean spectrum is then processed further (flip, mean subtraction, resampling) to isolate the relevant features and to reduce noise.**\n",
    "\n",
    "**The maximum frequency (peak) in the processed mean spectrum is then found using [X_peaks, I] = max(X_resamp, [], 1);, where X_resamp is the resampled mean spectrum.**\n",
    "\n",
    "**brillouin_peaks = peakfreqs(I); pinpoints the Brillouin peaks at the locations of maximal frequency.**\n",
    "\n",
    "Finally, the Brillouin peak frequencies are plotted against distance using plot(distance/100, brillouin_peaks), and the results are saved (save(profilename,'brillouin_peaks','-v6');).\n",
    "\n",
    "Note that the PH_STFT function is user-defined and isn't provided in the given MATLAB code, so I've speculated its functionality based on typical practice and the name of the function. STFT is a common method used in signal analysis to determine the frequency content of local sections of a signal as it changes over time.\n",
    "\n",
    "**This code essentially processes each file's data to extract the dominant (peak) Brillouin frequency for each segment of the signal, which is then used in the analysis and plotted for visual representation. These peaks represent the most significant frequency components in each section of the fiber, which can be directly linked to the physical properties (like temperature and strain) at the corresponding fiber location.**\n",
    "\n",
    "---\n",
    "\n",
    "The digital signal from the fiber optic cable, which is an electrical signal converted from the optical signal passing through the cable, is likely to be processed by a Fourier Transform. The Fourier Transform is a mathematical tool that transforms a function of time, a time domain signal, into a function of frequency, called a frequency domain signal.\n",
    "\n",
    "In simple terms, Fourier Transform breaks down the original signal into a set of sine and cosine waves of different frequencies. By identifying the frequency content of the signal, we can identify the characteristics of the signal and its components at each frequency. This is particularly useful in fiber optics where different frequencies can be associated with different data streams, enabling us to identify and isolate each one.\n",
    "\n",
    "In the context of fiber optic sensors (e.g., distributed fiber optic sensing, DFOS), the \"length\" of fiber that a given datapoint represents can be determined by the speed of light (in the fiber) and the time of arrival of the backscattered signal. Each sampled data point in the signal acquisition can be mapped to a location in the fiber.\n",
    "\n",
    "In Fourier Domain analysis of these signals, the frequencies present give us information about the variation of the physical parameter being measured (temperature, strain etc.) along the length of the fiber.\n",
    "\n",
    "Please note that the MATLAB code snippet in question lacks detail on this processing. Additional understanding of the specific sensor system setup and its signal processing steps would be required for a precise explanation.\n",
    "\n",
    "It's important to have a deep understanding of the system under consideration when interpreting the results of such data analyses - especially when assigning physical meaning to the frequency content of such signals.\n",
    "\n",
    "User"
   ]
  },
  {
   "cell_type": "markdown",
   "metadata": {},
   "source": [
    "#### Next, use Github CoPilot to rewrite Alicia MATLAB code in Python; decide on correct Python libraries; demonstrate how quickly the analysis can be modified to fit specific problem domain"
   ]
  },
  {
   "cell_type": "markdown",
   "metadata": {},
   "source": [
    "## Next, use RFSoC Jupyter Notebooks. Rewrite them to perform computations for each use case, eg, to compute peak Brillouin frequency for each EBMUD frequency scan\n",
    "#### Create Jupyter Notebooks to run all Alicia analyses; add JN for phase analysis, polarity analysis; Rayleigh, Raman,Brillouin; multi-pulse;different fiber types, doping; metamaterials;bio, chemical analysis; non-linear data fitting for crack analysis, to improve spatial resolution;\n",
    "Do step-by-step explananation of process to extract the dominant (peak) Brillouin frequency for each segment of the signal, and how each segment corresponds to a specific location along the fiber"
   ]
  },
  {
   "cell_type": "markdown",
   "metadata": {},
   "source": [
    "\n",
    "Write JN to apply to stored Alicia waveforms; waveforms for each segment are stored at what resolution? Sampled at what sampling frequency?\n",
    "\n",
    "What does the python signal library contain?  What else?\n",
    "\n",
    "Scipy  \"integrate\" contains \"integrate.quad\", used to calculate the first $a_0$ coefficient of the Fourier series; used again to integrate each sucsessive cosine or sine element"
   ]
  },
  {
   "cell_type": "markdown",
   "metadata": {},
   "source": [
    "## Simple example of Fourier analysis: show composition of square wave; generate the Fourier or complex Fourier elements that sum to square wave; then, move to spectrum analysis\n"
   ]
  },
  {
   "cell_type": "code",
   "execution_count": null,
   "metadata": {},
   "outputs": [],
   "source": [
    "#%pip install scipy\n",
    "#%pip install matplotlib\n",
    "#%pip install numpy"
   ]
  },
  {
   "cell_type": "code",
   "execution_count": null,
   "metadata": {},
   "outputs": [],
   "source": [
    "from scipy import signal, integrate\n",
    "import matplotlib.pyplot as plt\n",
    "import numpy as np"
   ]
  },
  {
   "cell_type": "markdown",
   "metadata": {},
   "source": [
    "Now, define a function for a square wave and plot it for inspection. The square wave will be characterised by the following:\n",
    "* sample frequency $f_s$ of 1kHz,\n",
    "* a fundamental period $T$ of 2$\\pi$,\n",
    "* an amplitude of 3,\n",
    "* a DC bias of +3."
   ]
  },
  {
   "cell_type": "code",
   "execution_count": null,
   "metadata": {},
   "outputs": [],
   "source": [
    "def squarewave(x, amplitude=3, dcbias=3, phase=np.pi/4):\n",
    "    return signal.square(x+phase)*amplitude+dcbias\n",
    "\n",
    "fs = 1e3\n",
    "x = np.arange(-2*np.pi, 2*np.pi, 1/fs)\n",
    "plt.plot(x, squarewave(x), label='Square Wave', linestyle='dashed')\n",
    "plt.ylim([-1, 7])\n",
    "plt.xlim([-2*np.pi, 2*np.pi])\n",
    "plt.xlabel('Phase (Radians)')\n",
    "plt.ylabel('Amplitude')\n",
    "plt.show()"
   ]
  },
  {
   "cell_type": "code",
   "execution_count": null,
   "metadata": {},
   "outputs": [],
   "source": [
    "a0 = integrate.quad(squarewave, -np.pi, np.pi)[0]/(2*np.pi)\n",
    "print('The DC bias is ' + str(a0) + '.')"
   ]
  },
  {
   "cell_type": "code",
   "execution_count": null,
   "metadata": {},
   "outputs": [],
   "source": [
    "def gcos(x, g, n):\n",
    "    return g(x)*np.cos(n*x)\n",
    "\n",
    "def gsin(x, g, n):\n",
    "    return g(x)*np.sin(n*x)\n",
    "\n",
    "g = squarewave\n",
    "n = 1\n",
    "a1 = integrate.quad(gcos, -np.pi, np.pi, args=(g, n))[0]/(np.pi)\n",
    "b1 = integrate.quad(gsin, -np.pi, np.pi, args=(g, n))[0]/(np.pi)"
   ]
  },
  {
   "cell_type": "code",
   "execution_count": null,
   "metadata": {},
   "outputs": [],
   "source": [
    "def fourier_coeffs(x, g, n, a=-np.pi, b=np.pi):\n",
    "    an, bn = np.zeros(n), np.zeros(n)\n",
    "    a0 = integrate.quad(g, a, b)[0]/(b-a)\n",
    "    for i in range(1, n + 1):\n",
    "        an[i-1] = integrate.quad(gcos, a, b, args=(g, i))[0]*2/(b-a)\n",
    "        bn[i-1] = integrate.quad(gsin, a, b, args=(g, i))[0]*2/(b-a)\n",
    "    return a0, an, bn"
   ]
  },
  {
   "cell_type": "code",
   "execution_count": null,
   "metadata": {},
   "outputs": [],
   "source": [
    "def fourier_sum(x, a0, an, bn, n=None):\n",
    "    if n == None or n > len(an):\n",
    "        n = len(an)\n",
    "    s = np.ones(len(x))*a0\n",
    "    for i in range(1, n + 1):\n",
    "        s += an[i-1]*np.cos(i*x) + bn[i-1]*np.sin(i*x)\n",
    "    return s"
   ]
  },
  {
   "cell_type": "markdown",
   "metadata": {},
   "source": [
    "The functions can now be used to obtain the Fourier Series of the square wave for any number of terms. Let us begin by computing the first 26 Fourier Series coefficients using the `fourier_coeffs` function."
   ]
  },
  {
   "cell_type": "code",
   "execution_count": null,
   "metadata": {},
   "outputs": [],
   "source": [
    "a0, an, bn = fourier_coeffs(x, squarewave, n=26)"
   ]
  },
  {
   "cell_type": "code",
   "execution_count": null,
   "metadata": {},
   "outputs": [],
   "source": [
    "s = fourier_sum(x, a0, an, bn, n=26)\n",
    "plt.plot(x, squarewave(x), label='Square Wave', linestyle='dashed')\n",
    "plt.plot(x, s, label='26 Terms')\n",
    "plt.ylim([-1, 7])\n",
    "plt.xlim([-2*np.pi, 2*np.pi])\n",
    "plt.legend(loc='upper right')\n",
    "plt.xlabel('Phase (Radians)')\n",
    "plt.ylabel('Amplitude')\n",
    "plt.title('This should convey the Fourier idea; now, move to Frequency and spectrum analysis')\n",
    "plt.show()"
   ]
  },
  {
   "cell_type": "markdown",
   "metadata": {},
   "source": [
    "Showing waveforms; "
   ]
  },
  {
   "cell_type": "code",
   "execution_count": null,
   "metadata": {},
   "outputs": [],
   "source": [
    "from scipy import signal, integrate\n",
    "import matplotlib.pyplot as plt\n",
    "import numpy as np"
   ]
  },
  {
   "cell_type": "markdown",
   "metadata": {},
   "source": [
    "### The following cell allows playing around with sampling rate, sampling frequency"
   ]
  },
  {
   "cell_type": "code",
   "execution_count": null,
   "metadata": {},
   "outputs": [],
   "source": [
    "import numpy as np\n",
    "import matplotlib.pyplot as plt\n",
    "# Use this cell to play with the sampling rate, the sample size, the sampling frequency\n",
    "# this plots the sum of two cosines, one at 3000Hz, one at 9000Hz\n",
    "# the result is sampled at 48000Hz; higher sample rates zoom in\n",
    "# Plot the cosine functions; break down why there is a pi/4 phase shift; \n",
    "# why 3000 x 16 x 1/48e3?\n",
    "\n",
    "# Define time-related parameters\n",
    "N= 10000 # the larger N, the more samples will plot\n",
    "n = np.arange(0, N)  # Time index; how many samples to show\n",
    "\n",
    "#ts = 1 / 10000  # Time step: #low frequency sampling#\n",
    "#fs = 48e3 # Sampling frequency from JN: misses 9000 max\n",
    "#fs = 96e3 # Sampling frequency\n",
    "fs = 48e6 # Sampling frequency high\n",
    "\n",
    "ts = 1/fs # Regular sampling period\n",
    "\n",
    "# Define the signal equation\n",
    "a = 0.5 * np.cos(2 * np.pi * 3e3 * n * ts + np.pi / 4)\n",
    "#a = 0.5 * np.cos(2 * np.pi * 3e3 * n * ts )\n",
    "b = np.cos(2*np.pi*9e3*n*ts)\n",
    "\n",
    "# Plot the signal\n",
    "\n",
    "plt.plot(n,a) #plot the 3000\n",
    "plt.plot(n,b) #plot the 9000\n",
    "plt.plot(n,a+b) #add the two cosines\n",
    "\n",
    "plt.xlabel('Time Index (n)')\n",
    "plt.ylabel('Amplitude')\n",
    "plt.title('9KHz,3Khz a,b, a+b: 0.5 * cos(2*pi*3e3*n*ts + pi/4) + b')\n",
    "plt.grid(True)\n",
    "plt.show()\n"
   ]
  },
  {
   "cell_type": "markdown",
   "metadata": {},
   "source": [
    "build JN to show spectrum analysis to get peak Brillouin energy"
   ]
  },
  {
   "cell_type": "markdown",
   "metadata": {},
   "source": [
    "---\n",
    "## Notes on specific hardware components of RFSoC to use in replacing current Alicia components\n",
    "#### Spectrum Analyzer PYNQ\n",
    "\n",
    "**A significant portion of the design has been implemented in the RFSoC's PL to prevent the PS from applying highly computational arithmetic. There is a spectrum analyser for each available RF ADC channel in the design. The spectrum Analysers are also interfaced to their very own flexible decimator, allowing different sample rates to be configured for each channel.**\n",
    "\n"
   ]
  }
 ],
 "metadata": {
  "kernelspec": {
   "display_name": "Python 3",
   "language": "python",
   "name": "python3"
  },
  "language_info": {
   "codemirror_mode": {
    "name": "ipython",
    "version": 3
   },
   "file_extension": ".py",
   "mimetype": "text/x-python",
   "name": "python",
   "nbconvert_exporter": "python",
   "pygments_lexer": "ipython3",
   "version": "3.10.9"
  }
 },
 "nbformat": 4,
 "nbformat_minor": 2
}
